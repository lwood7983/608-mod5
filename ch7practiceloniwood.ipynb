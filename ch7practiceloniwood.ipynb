{
 "cells": [
  {
   "cell_type": "code",
   "execution_count": 1,
   "id": "d4c38097-04a8-460d-9ebe-61f6f26a5b9e",
   "metadata": {},
   "outputs": [],
   "source": [
    "import numpy as np"
   ]
  },
  {
   "cell_type": "code",
   "execution_count": 2,
   "id": "91f035c4-f382-4a66-86c6-5b1a44cb28ab",
   "metadata": {},
   "outputs": [],
   "source": [
    "numbers = np.array([2, 3, 5, 7, 11])"
   ]
  },
  {
   "cell_type": "code",
   "execution_count": 3,
   "id": "c3d4170d-49be-49b8-906b-4c5bdc4168df",
   "metadata": {},
   "outputs": [
    {
     "data": {
      "text/plain": [
       "numpy.ndarray"
      ]
     },
     "execution_count": 3,
     "metadata": {},
     "output_type": "execute_result"
    }
   ],
   "source": [
    "type(numbers)"
   ]
  },
  {
   "cell_type": "code",
   "execution_count": 4,
   "id": "9e95258e-2c85-4377-81fb-5ae8f1062c92",
   "metadata": {},
   "outputs": [
    {
     "data": {
      "text/plain": [
       "array([ 2,  3,  5,  7, 11])"
      ]
     },
     "execution_count": 4,
     "metadata": {},
     "output_type": "execute_result"
    }
   ],
   "source": [
    "numbers"
   ]
  },
  {
   "cell_type": "code",
   "execution_count": 5,
   "id": "6eaf5915-e7ee-4390-a710-7142d9b6db76",
   "metadata": {},
   "outputs": [
    {
     "data": {
      "text/plain": [
       "array([[1, 2, 3],\n",
       "       [4, 5, 6]])"
      ]
     },
     "execution_count": 5,
     "metadata": {},
     "output_type": "execute_result"
    }
   ],
   "source": [
    "np.array([[1, 2, 3], [4, 5, 6]])"
   ]
  },
  {
   "cell_type": "code",
   "execution_count": 6,
   "id": "cb6aa2e1-850b-470f-bf10-bbd6c687e6f9",
   "metadata": {},
   "outputs": [],
   "source": [
    "# 7.2 Self Check #2"
   ]
  },
  {
   "cell_type": "code",
   "execution_count": 7,
   "id": "41330265-6f0f-4525-9b95-71b51b983570",
   "metadata": {},
   "outputs": [],
   "source": [
    "import numpy as np"
   ]
  },
  {
   "cell_type": "code",
   "execution_count": 8,
   "id": "b4c3cad8-999c-499e-a96e-f6fcd33c910d",
   "metadata": {},
   "outputs": [
    {
     "data": {
      "text/plain": [
       "array([ 2,  4,  6,  8, 10, 12, 14, 16, 18, 20])"
      ]
     },
     "execution_count": 8,
     "metadata": {},
     "output_type": "execute_result"
    }
   ],
   "source": [
    "np.array([x for x in range(2, 21, 2)])"
   ]
  },
  {
   "cell_type": "code",
   "execution_count": 9,
   "id": "fdd52d30-a31c-4e08-9f33-62c5026221f6",
   "metadata": {},
   "outputs": [],
   "source": [
    "# 7.2 Self Check #3"
   ]
  },
  {
   "cell_type": "code",
   "execution_count": 10,
   "id": "f9c52bf8-ec5b-4469-b6a3-67633421db30",
   "metadata": {},
   "outputs": [],
   "source": [
    "import numpy as np"
   ]
  },
  {
   "cell_type": "code",
   "execution_count": 11,
   "id": "cf37ac4c-04e3-4210-a25e-a3386a3b0f33",
   "metadata": {},
   "outputs": [
    {
     "data": {
      "text/plain": [
       "array([[ 2,  4,  6,  8, 10],\n",
       "       [ 1,  3,  5,  7,  9]])"
      ]
     },
     "execution_count": 11,
     "metadata": {},
     "output_type": "execute_result"
    }
   ],
   "source": [
    "np.array([[2, 4, 6, 8, 10], [1, 3, 5, 7, 9]])"
   ]
  },
  {
   "cell_type": "code",
   "execution_count": 12,
   "id": "b97ea226-4441-4b36-b4e6-d01b943c1128",
   "metadata": {},
   "outputs": [],
   "source": [
    "#7.3 Practice"
   ]
  },
  {
   "cell_type": "code",
   "execution_count": 13,
   "id": "95c242e3-ea91-48eb-8af1-d9d2095ce4f4",
   "metadata": {},
   "outputs": [],
   "source": [
    "import numpy as np"
   ]
  },
  {
   "cell_type": "code",
   "execution_count": 14,
   "id": "4896789f-fda6-4e37-b081-0d62da906c29",
   "metadata": {},
   "outputs": [],
   "source": [
    "integers = np.array([[1, 2, 3], [4, 5, 6]])"
   ]
  },
  {
   "cell_type": "code",
   "execution_count": 15,
   "id": "e793eb08-16d4-4ff2-aaad-4f20c4ef8978",
   "metadata": {},
   "outputs": [
    {
     "data": {
      "text/plain": [
       "array([[1, 2, 3],\n",
       "       [4, 5, 6]])"
      ]
     },
     "execution_count": 15,
     "metadata": {},
     "output_type": "execute_result"
    }
   ],
   "source": [
    "integers"
   ]
  },
  {
   "cell_type": "code",
   "execution_count": 16,
   "id": "1a2d8b86-56f7-4ca4-87bb-683dcdc19ff4",
   "metadata": {},
   "outputs": [],
   "source": [
    "floats = np.array([0.0, 0.1, 0.2, 0.3, 0.4])"
   ]
  },
  {
   "cell_type": "code",
   "execution_count": 17,
   "id": "4d4febbf-0449-4da5-a9ab-3a1a74faeea4",
   "metadata": {},
   "outputs": [
    {
     "data": {
      "text/plain": [
       "array([0. , 0.1, 0.2, 0.3, 0.4])"
      ]
     },
     "execution_count": 17,
     "metadata": {},
     "output_type": "execute_result"
    }
   ],
   "source": [
    "floats"
   ]
  },
  {
   "cell_type": "code",
   "execution_count": 18,
   "id": "5b3dc491-08b5-4c38-b770-663210980f26",
   "metadata": {},
   "outputs": [
    {
     "data": {
      "text/plain": [
       "dtype('int32')"
      ]
     },
     "execution_count": 18,
     "metadata": {},
     "output_type": "execute_result"
    }
   ],
   "source": [
    "integers.dtype"
   ]
  },
  {
   "cell_type": "code",
   "execution_count": 19,
   "id": "b8531a54-6dd7-4c35-8ac0-acfb56d53b12",
   "metadata": {},
   "outputs": [
    {
     "data": {
      "text/plain": [
       "dtype('float64')"
      ]
     },
     "execution_count": 19,
     "metadata": {},
     "output_type": "execute_result"
    }
   ],
   "source": [
    "floats.dtype"
   ]
  },
  {
   "cell_type": "code",
   "execution_count": 20,
   "id": "e691ab98-6bf6-437c-b5fe-1cf9a86fa1cd",
   "metadata": {},
   "outputs": [
    {
     "data": {
      "text/plain": [
       "2"
      ]
     },
     "execution_count": 20,
     "metadata": {},
     "output_type": "execute_result"
    }
   ],
   "source": [
    "integers.ndim"
   ]
  },
  {
   "cell_type": "code",
   "execution_count": 21,
   "id": "e317a63b-d70e-4e4c-9a65-f68d25dc108c",
   "metadata": {},
   "outputs": [
    {
     "data": {
      "text/plain": [
       "1"
      ]
     },
     "execution_count": 21,
     "metadata": {},
     "output_type": "execute_result"
    }
   ],
   "source": [
    "floats.ndim"
   ]
  },
  {
   "cell_type": "code",
   "execution_count": 22,
   "id": "fdf11fc8-f7cc-4da3-a842-85537d3bd9b8",
   "metadata": {},
   "outputs": [
    {
     "data": {
      "text/plain": [
       "(2, 3)"
      ]
     },
     "execution_count": 22,
     "metadata": {},
     "output_type": "execute_result"
    }
   ],
   "source": [
    "integers.shape"
   ]
  },
  {
   "cell_type": "code",
   "execution_count": 23,
   "id": "45f66611-39bc-4c53-b8f3-db9bf55df8da",
   "metadata": {},
   "outputs": [
    {
     "data": {
      "text/plain": [
       "(5,)"
      ]
     },
     "execution_count": 23,
     "metadata": {},
     "output_type": "execute_result"
    }
   ],
   "source": [
    "floats.shape"
   ]
  },
  {
   "cell_type": "code",
   "execution_count": 24,
   "id": "b0ead41a-2e86-4cc0-ba59-d4aee919fae9",
   "metadata": {},
   "outputs": [
    {
     "data": {
      "text/plain": [
       "6"
      ]
     },
     "execution_count": 24,
     "metadata": {},
     "output_type": "execute_result"
    }
   ],
   "source": [
    "integers.size"
   ]
  },
  {
   "cell_type": "code",
   "execution_count": 25,
   "id": "c00a3f73-6368-4732-aa2a-33088a69c7a0",
   "metadata": {},
   "outputs": [
    {
     "data": {
      "text/plain": [
       "4"
      ]
     },
     "execution_count": 25,
     "metadata": {},
     "output_type": "execute_result"
    }
   ],
   "source": [
    "integers.itemsize"
   ]
  },
  {
   "cell_type": "code",
   "execution_count": 26,
   "id": "1268e21f-3b01-469c-b62f-311e908b873e",
   "metadata": {},
   "outputs": [
    {
     "data": {
      "text/plain": [
       "5"
      ]
     },
     "execution_count": 26,
     "metadata": {},
     "output_type": "execute_result"
    }
   ],
   "source": [
    "floats.size"
   ]
  },
  {
   "cell_type": "code",
   "execution_count": 27,
   "id": "30e7b925-789b-4c96-8a97-b74e3aeb6bcc",
   "metadata": {},
   "outputs": [
    {
     "data": {
      "text/plain": [
       "8"
      ]
     },
     "execution_count": 27,
     "metadata": {},
     "output_type": "execute_result"
    }
   ],
   "source": [
    "floats.itemsize"
   ]
  },
  {
   "cell_type": "code",
   "execution_count": 28,
   "id": "c3826687-7031-46ab-82ed-f96dafe5fe97",
   "metadata": {},
   "outputs": [
    {
     "name": "stdout",
     "output_type": "stream",
     "text": [
      "1 2 3 \n",
      "4 5 6 \n"
     ]
    }
   ],
   "source": [
    "for row in integers:\n",
    "    for column in row:\n",
    "        print(column, end=' ')\n",
    "    print()"
   ]
  },
  {
   "cell_type": "code",
   "execution_count": 29,
   "id": "3c57ac56-e3d0-4c95-8440-1b547c45f8ff",
   "metadata": {},
   "outputs": [
    {
     "name": "stdout",
     "output_type": "stream",
     "text": [
      "1 2 3 4 5 6 "
     ]
    }
   ],
   "source": [
    "for i in integers.flat:\n",
    "    print(i, end=' ')"
   ]
  },
  {
   "cell_type": "code",
   "execution_count": 30,
   "id": "13a5d283-d8e0-4aa7-86b7-19b909d615c0",
   "metadata": {},
   "outputs": [],
   "source": [
    "#Self Check 7.3 # 2"
   ]
  },
  {
   "cell_type": "code",
   "execution_count": 31,
   "id": "a3d36c13-09df-45d1-8319-4e70adbae3b1",
   "metadata": {},
   "outputs": [],
   "source": [
    "import numpy as np"
   ]
  },
  {
   "cell_type": "code",
   "execution_count": 32,
   "id": "ed51e159-977e-4ba8-943b-ba3deef2cce2",
   "metadata": {},
   "outputs": [],
   "source": [
    "a = np.array([[2, 4, 6, 8, 10], [1, 3, 5, 7, 9]])"
   ]
  },
  {
   "cell_type": "code",
   "execution_count": 33,
   "id": "eca6bd23-e4ba-4698-bfc2-56ab910043d9",
   "metadata": {},
   "outputs": [
    {
     "data": {
      "text/plain": [
       "2"
      ]
     },
     "execution_count": 33,
     "metadata": {},
     "output_type": "execute_result"
    }
   ],
   "source": [
    "a.ndim"
   ]
  },
  {
   "cell_type": "code",
   "execution_count": 34,
   "id": "90693fd5-1677-4f74-a81f-d859c57bb7d1",
   "metadata": {},
   "outputs": [
    {
     "data": {
      "text/plain": [
       "(2, 5)"
      ]
     },
     "execution_count": 34,
     "metadata": {},
     "output_type": "execute_result"
    }
   ],
   "source": [
    "a.shape"
   ]
  },
  {
   "cell_type": "code",
   "execution_count": 35,
   "id": "b2fc2d29-7a9b-4c38-9292-433ee9e344ca",
   "metadata": {},
   "outputs": [],
   "source": [
    "#7.4 Practice"
   ]
  },
  {
   "cell_type": "code",
   "execution_count": 36,
   "id": "6c6ad630-81ed-4077-b85f-91a9b6d3b76f",
   "metadata": {},
   "outputs": [],
   "source": [
    "import numpy as np"
   ]
  },
  {
   "cell_type": "code",
   "execution_count": 37,
   "id": "eb6eda79-e975-4ba9-b125-253ff1d2b290",
   "metadata": {},
   "outputs": [
    {
     "data": {
      "text/plain": [
       "array([0., 0., 0., 0., 0.])"
      ]
     },
     "execution_count": 37,
     "metadata": {},
     "output_type": "execute_result"
    }
   ],
   "source": [
    "np.zeros(5)"
   ]
  },
  {
   "cell_type": "code",
   "execution_count": 38,
   "id": "9f91ce45-530d-4621-b64b-e1821b6a409c",
   "metadata": {},
   "outputs": [
    {
     "data": {
      "text/plain": [
       "array([[1, 1, 1, 1],\n",
       "       [1, 1, 1, 1]])"
      ]
     },
     "execution_count": 38,
     "metadata": {},
     "output_type": "execute_result"
    }
   ],
   "source": [
    "np.ones((2, 4), dtype=int)"
   ]
  },
  {
   "cell_type": "code",
   "execution_count": 39,
   "id": "ce6af2c1-31c7-4fdd-b5bf-c4f6c4e7ad25",
   "metadata": {},
   "outputs": [
    {
     "data": {
      "text/plain": [
       "array([[13, 13, 13, 13, 13],\n",
       "       [13, 13, 13, 13, 13],\n",
       "       [13, 13, 13, 13, 13]])"
      ]
     },
     "execution_count": 39,
     "metadata": {},
     "output_type": "execute_result"
    }
   ],
   "source": [
    "np.full((3, 5), 13)"
   ]
  },
  {
   "cell_type": "code",
   "execution_count": 40,
   "id": "f785416b-d989-4876-a681-e31bcbbff9d5",
   "metadata": {},
   "outputs": [],
   "source": [
    "#7.5 Practice"
   ]
  },
  {
   "cell_type": "code",
   "execution_count": 41,
   "id": "1fc658fa-e637-44cb-9ee6-0d1319d97eea",
   "metadata": {},
   "outputs": [],
   "source": [
    "import numpy as np"
   ]
  },
  {
   "cell_type": "code",
   "execution_count": 42,
   "id": "7d1e008f-5a89-4ae8-98a6-c28a55f44d74",
   "metadata": {},
   "outputs": [
    {
     "data": {
      "text/plain": [
       "array([0, 1, 2, 3, 4])"
      ]
     },
     "execution_count": 42,
     "metadata": {},
     "output_type": "execute_result"
    }
   ],
   "source": [
    "np.arange(5)"
   ]
  },
  {
   "cell_type": "code",
   "execution_count": 43,
   "id": "e961c4d0-c72f-4dd6-a911-8dc2137477a4",
   "metadata": {},
   "outputs": [
    {
     "data": {
      "text/plain": [
       "array([5, 6, 7, 8, 9])"
      ]
     },
     "execution_count": 43,
     "metadata": {},
     "output_type": "execute_result"
    }
   ],
   "source": [
    "np.arange(5, 10)"
   ]
  },
  {
   "cell_type": "code",
   "execution_count": 44,
   "id": "24bc909c-7ff4-4ed9-812e-c09709fe8ba9",
   "metadata": {},
   "outputs": [
    {
     "data": {
      "text/plain": [
       "array([10,  8,  6,  4,  2])"
      ]
     },
     "execution_count": 44,
     "metadata": {},
     "output_type": "execute_result"
    }
   ],
   "source": [
    "np.arange(10, 1, -2)"
   ]
  },
  {
   "cell_type": "code",
   "execution_count": 45,
   "id": "acd857f4-ae14-4f6e-8095-ff68ff751eea",
   "metadata": {},
   "outputs": [
    {
     "data": {
      "text/plain": [
       "array([0.  , 0.25, 0.5 , 0.75, 1.  ])"
      ]
     },
     "execution_count": 45,
     "metadata": {},
     "output_type": "execute_result"
    }
   ],
   "source": [
    "np.linspace(0.0, 1.0, num=5)"
   ]
  },
  {
   "cell_type": "code",
   "execution_count": 46,
   "id": "6e2bd19f-e2bc-4a78-ab42-deecf576b82d",
   "metadata": {},
   "outputs": [
    {
     "data": {
      "text/plain": [
       "array([0.        , 0.02040816, 0.04081633, 0.06122449, 0.08163265,\n",
       "       0.10204082, 0.12244898, 0.14285714, 0.16326531, 0.18367347,\n",
       "       0.20408163, 0.2244898 , 0.24489796, 0.26530612, 0.28571429,\n",
       "       0.30612245, 0.32653061, 0.34693878, 0.36734694, 0.3877551 ,\n",
       "       0.40816327, 0.42857143, 0.44897959, 0.46938776, 0.48979592,\n",
       "       0.51020408, 0.53061224, 0.55102041, 0.57142857, 0.59183673,\n",
       "       0.6122449 , 0.63265306, 0.65306122, 0.67346939, 0.69387755,\n",
       "       0.71428571, 0.73469388, 0.75510204, 0.7755102 , 0.79591837,\n",
       "       0.81632653, 0.83673469, 0.85714286, 0.87755102, 0.89795918,\n",
       "       0.91836735, 0.93877551, 0.95918367, 0.97959184, 1.        ])"
      ]
     },
     "execution_count": 46,
     "metadata": {},
     "output_type": "execute_result"
    }
   ],
   "source": [
    "np.linspace(0.0, 1.0)"
   ]
  },
  {
   "cell_type": "code",
   "execution_count": 47,
   "id": "b15b1890-153c-4dd8-94fb-83662a5e0687",
   "metadata": {},
   "outputs": [
    {
     "data": {
      "text/plain": [
       "array([[ 1,  2,  3,  4,  5],\n",
       "       [ 6,  7,  8,  9, 10],\n",
       "       [11, 12, 13, 14, 15],\n",
       "       [16, 17, 18, 19, 20]])"
      ]
     },
     "execution_count": 47,
     "metadata": {},
     "output_type": "execute_result"
    }
   ],
   "source": [
    "np.arange(1, 21).reshape(4, 5)"
   ]
  },
  {
   "cell_type": "code",
   "execution_count": 48,
   "id": "0b0d98e2-0a85-443b-9361-f802204aadc5",
   "metadata": {},
   "outputs": [
    {
     "data": {
      "text/plain": [
       "array([[     1,      2,      3, ...,  24998,  24999,  25000],\n",
       "       [ 25001,  25002,  25003, ...,  49998,  49999,  50000],\n",
       "       [ 50001,  50002,  50003, ...,  74998,  74999,  75000],\n",
       "       [ 75001,  75002,  75003, ...,  99998,  99999, 100000]])"
      ]
     },
     "execution_count": 48,
     "metadata": {},
     "output_type": "execute_result"
    }
   ],
   "source": [
    "np.arange(1, 100001).reshape(4, 25000)"
   ]
  },
  {
   "cell_type": "code",
   "execution_count": 49,
   "id": "7613a3d9-54c2-4cd7-a573-8016cdc69436",
   "metadata": {},
   "outputs": [
    {
     "data": {
      "text/plain": [
       "array([[     1,      2,      3, ...,    998,    999,   1000],\n",
       "       [  1001,   1002,   1003, ...,   1998,   1999,   2000],\n",
       "       [  2001,   2002,   2003, ...,   2998,   2999,   3000],\n",
       "       ...,\n",
       "       [ 97001,  97002,  97003, ...,  97998,  97999,  98000],\n",
       "       [ 98001,  98002,  98003, ...,  98998,  98999,  99000],\n",
       "       [ 99001,  99002,  99003, ...,  99998,  99999, 100000]])"
      ]
     },
     "execution_count": 49,
     "metadata": {},
     "output_type": "execute_result"
    }
   ],
   "source": [
    "np.arange(1, 100001).reshape(100, 1000)"
   ]
  },
  {
   "cell_type": "code",
   "execution_count": 50,
   "id": "7e826537-9ada-4e88-9287-0b159513a7c4",
   "metadata": {},
   "outputs": [],
   "source": [
    "#Self Check 7.5 2"
   ]
  },
  {
   "cell_type": "code",
   "execution_count": 51,
   "id": "3242152e-821d-4dbc-8459-e582fde62d68",
   "metadata": {},
   "outputs": [],
   "source": [
    "import numpy as np"
   ]
  },
  {
   "cell_type": "code",
   "execution_count": 52,
   "id": "783bb7b6-08e2-47c7-8367-4f6bf4501755",
   "metadata": {},
   "outputs": [
    {
     "data": {
      "text/plain": [
       "array([[ 2,  4,  6,  8, 10],\n",
       "       [12, 14, 16, 18, 20],\n",
       "       [22, 24, 26, 28, 30],\n",
       "       [32, 34, 36, 38, 40]])"
      ]
     },
     "execution_count": 52,
     "metadata": {},
     "output_type": "execute_result"
    }
   ],
   "source": [
    "np.arange(2, 41, 2).reshape(4, 5)"
   ]
  },
  {
   "cell_type": "code",
   "execution_count": 53,
   "id": "6a20fefe-fa8b-4be7-83b7-165eeee3374f",
   "metadata": {},
   "outputs": [],
   "source": [
    "#7.6 Practice"
   ]
  },
  {
   "cell_type": "code",
   "execution_count": 54,
   "id": "a4d020f8-139e-4620-93c4-e6d5e3358960",
   "metadata": {},
   "outputs": [],
   "source": [
    "import random"
   ]
  },
  {
   "cell_type": "code",
   "execution_count": 55,
   "id": "1f14b5d2-573c-4b2c-8f60-bed55aec5733",
   "metadata": {},
   "outputs": [
    {
     "name": "stdout",
     "output_type": "stream",
     "text": [
      "4.58 s ± 149 ms per loop (mean ± std. dev. of 7 runs, 1 loop each)\n"
     ]
    }
   ],
   "source": [
    "%timeit rolls_list = \\\n",
    "    [random.randrange(1, 7) for i in range(0, 6_000_000)]"
   ]
  },
  {
   "cell_type": "code",
   "execution_count": 56,
   "id": "fc79ee88-4ed8-4543-93c4-d2b8ef8e9b0b",
   "metadata": {},
   "outputs": [],
   "source": [
    "import numpy as np"
   ]
  },
  {
   "cell_type": "code",
   "execution_count": 57,
   "id": "38a039fb-bad9-4e43-9bc0-85e0c88e8e5f",
   "metadata": {},
   "outputs": [
    {
     "name": "stdout",
     "output_type": "stream",
     "text": [
      "62 ms ± 2.63 ms per loop (mean ± std. dev. of 7 runs, 10 loops each)\n"
     ]
    }
   ],
   "source": [
    "%timeit rolls_array = np.random.randint(1, 7, 6_000_000)"
   ]
  },
  {
   "cell_type": "code",
   "execution_count": 58,
   "id": "0190bde3-8e45-4839-9863-61fb6f7c8266",
   "metadata": {},
   "outputs": [
    {
     "name": "stdout",
     "output_type": "stream",
     "text": [
      "625 ms ± 29.3 ms per loop (mean ± std. dev. of 7 runs, 1 loop each)\n"
     ]
    }
   ],
   "source": [
    "%timeit rolls_array = np.random.randint(1, 7, 60_000_000)"
   ]
  },
  {
   "cell_type": "code",
   "execution_count": 59,
   "id": "ab9e0536-b627-4c8c-9abb-48d84ebe4c24",
   "metadata": {},
   "outputs": [
    {
     "name": "stdout",
     "output_type": "stream",
     "text": [
      "6.28 s ± 114 ms per loop (mean ± std. dev. of 7 runs, 1 loop each)\n"
     ]
    }
   ],
   "source": [
    "%timeit rolls_array = np.random.randint(1, 7, 600_000_000)"
   ]
  },
  {
   "cell_type": "code",
   "execution_count": 60,
   "id": "b4c99306-f976-4d56-8f7b-fa813ae95992",
   "metadata": {},
   "outputs": [
    {
     "name": "stdout",
     "output_type": "stream",
     "text": [
      "66.5 ms ± 1.93 ms per loop (mean ± std. dev. of 2 runs, 3 loops each)\n"
     ]
    }
   ],
   "source": [
    "%timeit -n3 -r2 rolls_array = np.random.randint(1, 7, 6_000_000)"
   ]
  },
  {
   "cell_type": "code",
   "execution_count": 61,
   "id": "9f651228-c49c-41c9-ad6c-7c0676bbad27",
   "metadata": {},
   "outputs": [],
   "source": [
    "# Self Check 7.6"
   ]
  },
  {
   "cell_type": "code",
   "execution_count": 62,
   "id": "44fcf148-fed4-49fc-b62e-ab9fadd9d275",
   "metadata": {},
   "outputs": [],
   "source": [
    "import numpy as np"
   ]
  },
  {
   "cell_type": "code",
   "execution_count": 63,
   "id": "0e898426-ba10-4572-9e76-d34b499ee2b0",
   "metadata": {},
   "outputs": [
    {
     "name": "stdout",
     "output_type": "stream",
     "text": [
      "876 ms ± 49.9 ms per loop (mean ± std. dev. of 7 runs, 1 loop each)\n"
     ]
    }
   ],
   "source": [
    "%timeit sum([x for x in range(10_000_000)])"
   ]
  },
  {
   "cell_type": "code",
   "execution_count": 64,
   "id": "6a24fe70-0d87-4a74-abf9-9a7ae77d04bb",
   "metadata": {},
   "outputs": [
    {
     "name": "stdout",
     "output_type": "stream",
     "text": [
      "18.3 ms ± 1.69 ms per loop (mean ± std. dev. of 7 runs, 10 loops each)\n"
     ]
    }
   ],
   "source": [
    "%timeit  np.arange(10_000_000).sum()"
   ]
  },
  {
   "cell_type": "code",
   "execution_count": 65,
   "id": "ece147ed-0e73-4593-8539-747d61ba5dd0",
   "metadata": {},
   "outputs": [],
   "source": [
    "#7.7 Practice"
   ]
  },
  {
   "cell_type": "code",
   "execution_count": 66,
   "id": "6098fe62-c430-4ad8-9392-c9066f02a499",
   "metadata": {},
   "outputs": [],
   "source": [
    "import numpy as np"
   ]
  },
  {
   "cell_type": "code",
   "execution_count": 67,
   "id": "9d701d04-5edd-4f29-8608-68ad0fb08cab",
   "metadata": {},
   "outputs": [],
   "source": [
    "numbers = np.arange(1, 6)"
   ]
  },
  {
   "cell_type": "code",
   "execution_count": 68,
   "id": "eabeb1f6-70a7-43ec-af99-914c455fe194",
   "metadata": {},
   "outputs": [
    {
     "data": {
      "text/plain": [
       "array([1, 2, 3, 4, 5])"
      ]
     },
     "execution_count": 68,
     "metadata": {},
     "output_type": "execute_result"
    }
   ],
   "source": [
    "numbers"
   ]
  },
  {
   "cell_type": "code",
   "execution_count": 69,
   "id": "d2f586a8-d2f2-4c2c-9b28-51b9591b7594",
   "metadata": {},
   "outputs": [
    {
     "data": {
      "text/plain": [
       "array([ 2,  4,  6,  8, 10])"
      ]
     },
     "execution_count": 69,
     "metadata": {},
     "output_type": "execute_result"
    }
   ],
   "source": [
    "numbers * 2"
   ]
  },
  {
   "cell_type": "code",
   "execution_count": 70,
   "id": "a0dc0fae-2dc5-4693-9b17-aad00badaf36",
   "metadata": {},
   "outputs": [
    {
     "data": {
      "text/plain": [
       "array([  1,   8,  27,  64, 125], dtype=int32)"
      ]
     },
     "execution_count": 70,
     "metadata": {},
     "output_type": "execute_result"
    }
   ],
   "source": [
    "numbers ** 3"
   ]
  },
  {
   "cell_type": "code",
   "execution_count": 71,
   "id": "b05a504d-df66-433a-b0dc-a454929058b7",
   "metadata": {},
   "outputs": [
    {
     "data": {
      "text/plain": [
       "array([1, 2, 3, 4, 5])"
      ]
     },
     "execution_count": 71,
     "metadata": {},
     "output_type": "execute_result"
    }
   ],
   "source": [
    "numbers"
   ]
  },
  {
   "cell_type": "code",
   "execution_count": 72,
   "id": "227ee368-5e3d-4f40-ab53-9049a0991640",
   "metadata": {},
   "outputs": [],
   "source": [
    "numbers += 10"
   ]
  },
  {
   "cell_type": "code",
   "execution_count": 73,
   "id": "bcb052d2-977d-4740-805b-18b5f1214242",
   "metadata": {},
   "outputs": [
    {
     "data": {
      "text/plain": [
       "array([11, 12, 13, 14, 15])"
      ]
     },
     "execution_count": 73,
     "metadata": {},
     "output_type": "execute_result"
    }
   ],
   "source": [
    "numbers"
   ]
  },
  {
   "cell_type": "code",
   "execution_count": 74,
   "id": "665e0d81-422b-447d-8125-4f83af038230",
   "metadata": {},
   "outputs": [],
   "source": [
    "numbers2 = np.linspace(1.1, 5.5, 5)"
   ]
  },
  {
   "cell_type": "code",
   "execution_count": 75,
   "id": "28f9108a-4aff-4e5c-a311-e7c68e875a7d",
   "metadata": {},
   "outputs": [
    {
     "data": {
      "text/plain": [
       "array([1.1, 2.2, 3.3, 4.4, 5.5])"
      ]
     },
     "execution_count": 75,
     "metadata": {},
     "output_type": "execute_result"
    }
   ],
   "source": [
    "numbers2"
   ]
  },
  {
   "cell_type": "code",
   "execution_count": 76,
   "id": "5f140c47-fdf8-4521-8059-63084a01e097",
   "metadata": {},
   "outputs": [
    {
     "data": {
      "text/plain": [
       "array([12.1, 26.4, 42.9, 61.6, 82.5])"
      ]
     },
     "execution_count": 76,
     "metadata": {},
     "output_type": "execute_result"
    }
   ],
   "source": [
    "numbers * numbers2"
   ]
  },
  {
   "cell_type": "code",
   "execution_count": 77,
   "id": "20dc7fe4-5041-44d7-85a0-b2ce2d9a7255",
   "metadata": {},
   "outputs": [
    {
     "data": {
      "text/plain": [
       "array([11, 12, 13, 14, 15])"
      ]
     },
     "execution_count": 77,
     "metadata": {},
     "output_type": "execute_result"
    }
   ],
   "source": [
    "numbers"
   ]
  },
  {
   "cell_type": "code",
   "execution_count": 78,
   "id": "ef7882ff-be4c-4dcf-9ae4-78a3307d0ed7",
   "metadata": {},
   "outputs": [
    {
     "data": {
      "text/plain": [
       "array([False, False,  True,  True,  True])"
      ]
     },
     "execution_count": 78,
     "metadata": {},
     "output_type": "execute_result"
    }
   ],
   "source": [
    "numbers >= 13"
   ]
  },
  {
   "cell_type": "code",
   "execution_count": 79,
   "id": "f477b69a-1785-4c82-9a46-f20ca71c2e19",
   "metadata": {},
   "outputs": [
    {
     "data": {
      "text/plain": [
       "array([1.1, 2.2, 3.3, 4.4, 5.5])"
      ]
     },
     "execution_count": 79,
     "metadata": {},
     "output_type": "execute_result"
    }
   ],
   "source": [
    "numbers2"
   ]
  },
  {
   "cell_type": "code",
   "execution_count": 80,
   "id": "ec908b67-9ac9-41b5-9abe-90e0d42f734b",
   "metadata": {},
   "outputs": [
    {
     "data": {
      "text/plain": [
       "array([ True,  True,  True,  True,  True])"
      ]
     },
     "execution_count": 80,
     "metadata": {},
     "output_type": "execute_result"
    }
   ],
   "source": [
    "numbers2 < numbers"
   ]
  },
  {
   "cell_type": "code",
   "execution_count": 81,
   "id": "171f00cb-8ba0-4471-a0cf-ecbf4e345ba1",
   "metadata": {},
   "outputs": [
    {
     "data": {
      "text/plain": [
       "array([False, False, False, False, False])"
      ]
     },
     "execution_count": 81,
     "metadata": {},
     "output_type": "execute_result"
    }
   ],
   "source": [
    "numbers == numbers2"
   ]
  },
  {
   "cell_type": "code",
   "execution_count": 82,
   "id": "3e519a4c-78fe-462f-b5e8-18371cccb180",
   "metadata": {},
   "outputs": [
    {
     "data": {
      "text/plain": [
       "array([ True,  True,  True,  True,  True])"
      ]
     },
     "execution_count": 82,
     "metadata": {},
     "output_type": "execute_result"
    }
   ],
   "source": [
    "numbers == numbers"
   ]
  },
  {
   "cell_type": "code",
   "execution_count": 83,
   "id": "0060f1aa-0797-44d9-bb32-95348c57b1bc",
   "metadata": {},
   "outputs": [],
   "source": [
    "#Self Check 7.7"
   ]
  },
  {
   "cell_type": "code",
   "execution_count": 84,
   "id": "b6997989-2c43-4b27-b257-fd7711467e4a",
   "metadata": {},
   "outputs": [],
   "source": [
    "import numpy as np"
   ]
  },
  {
   "cell_type": "code",
   "execution_count": 85,
   "id": "679c14df-01ec-437a-ad4e-c450720edf01",
   "metadata": {},
   "outputs": [
    {
     "data": {
      "text/plain": [
       "array([ 1,  4,  9, 16, 25])"
      ]
     },
     "execution_count": 85,
     "metadata": {},
     "output_type": "execute_result"
    }
   ],
   "source": [
    "np.arange(1, 6) ** 2"
   ]
  },
  {
   "cell_type": "code",
   "execution_count": 86,
   "id": "edf2f9dd-c3c0-432e-bdc3-156da749ed04",
   "metadata": {},
   "outputs": [],
   "source": [
    "# 7.8 Practice"
   ]
  },
  {
   "cell_type": "code",
   "execution_count": 87,
   "id": "4c662ac5-881d-47bc-b36f-41efe7d037fa",
   "metadata": {},
   "outputs": [],
   "source": [
    "import numpy as np"
   ]
  },
  {
   "cell_type": "code",
   "execution_count": 88,
   "id": "02ac683c-d2ef-4d89-8de7-864c2980d03b",
   "metadata": {},
   "outputs": [],
   "source": [
    "grades = np.array([[87, 96, 70], [100, 87, 90], \n",
    "                   [94, 77, 90], [100, 81, 82]])"
   ]
  },
  {
   "cell_type": "code",
   "execution_count": 89,
   "id": "074768fd-c980-4a96-b1b8-080eedde5aaf",
   "metadata": {},
   "outputs": [
    {
     "data": {
      "text/plain": [
       "1054"
      ]
     },
     "execution_count": 89,
     "metadata": {},
     "output_type": "execute_result"
    }
   ],
   "source": [
    "grades.sum()"
   ]
  },
  {
   "cell_type": "code",
   "execution_count": 90,
   "id": "6e11fa8a-300d-4c04-b78e-3d0e5ebb7ada",
   "metadata": {},
   "outputs": [
    {
     "data": {
      "text/plain": [
       "70"
      ]
     },
     "execution_count": 90,
     "metadata": {},
     "output_type": "execute_result"
    }
   ],
   "source": [
    "grades.min()"
   ]
  },
  {
   "cell_type": "code",
   "execution_count": 91,
   "id": "28043ec7-7fa2-4c79-8335-b4eb1897efdd",
   "metadata": {},
   "outputs": [
    {
     "data": {
      "text/plain": [
       "100"
      ]
     },
     "execution_count": 91,
     "metadata": {},
     "output_type": "execute_result"
    }
   ],
   "source": [
    "grades.max()"
   ]
  },
  {
   "cell_type": "code",
   "execution_count": 92,
   "id": "bbef165a-63c6-4234-8d13-19138fe4ad45",
   "metadata": {},
   "outputs": [
    {
     "data": {
      "text/plain": [
       "87.83333333333333"
      ]
     },
     "execution_count": 92,
     "metadata": {},
     "output_type": "execute_result"
    }
   ],
   "source": [
    "grades.mean()"
   ]
  },
  {
   "cell_type": "code",
   "execution_count": 93,
   "id": "3f496b11-7cb5-4867-bc68-a9023ee78c1b",
   "metadata": {},
   "outputs": [
    {
     "data": {
      "text/plain": [
       "8.792357792739987"
      ]
     },
     "execution_count": 93,
     "metadata": {},
     "output_type": "execute_result"
    }
   ],
   "source": [
    "grades.std()"
   ]
  },
  {
   "cell_type": "code",
   "execution_count": 94,
   "id": "a64bb84a-116f-4cb5-b0ca-a1c684774066",
   "metadata": {},
   "outputs": [
    {
     "data": {
      "text/plain": [
       "77.30555555555556"
      ]
     },
     "execution_count": 94,
     "metadata": {},
     "output_type": "execute_result"
    }
   ],
   "source": [
    "grades.var()"
   ]
  },
  {
   "cell_type": "code",
   "execution_count": 95,
   "id": "f9989705-d5d2-4121-8968-d24d8629586c",
   "metadata": {},
   "outputs": [
    {
     "data": {
      "text/plain": [
       "array([95.25, 85.25, 83.  ])"
      ]
     },
     "execution_count": 95,
     "metadata": {},
     "output_type": "execute_result"
    }
   ],
   "source": [
    "grades.mean(axis=0)"
   ]
  },
  {
   "cell_type": "code",
   "execution_count": 96,
   "id": "bc48b3fa-5d02-405a-89c0-64cf4696a3ec",
   "metadata": {},
   "outputs": [
    {
     "data": {
      "text/plain": [
       "array([84.33333333, 92.33333333, 87.        , 87.66666667])"
      ]
     },
     "execution_count": 96,
     "metadata": {},
     "output_type": "execute_result"
    }
   ],
   "source": [
    "grades.mean(axis=1)"
   ]
  },
  {
   "cell_type": "code",
   "execution_count": 97,
   "id": "a5ba5a7d-b078-4925-8b70-4a981207c945",
   "metadata": {},
   "outputs": [],
   "source": [
    "#Self Check 7.8"
   ]
  },
  {
   "cell_type": "code",
   "execution_count": 98,
   "id": "3b85cfb4-e18c-4462-8d91-7a4a6a3e6076",
   "metadata": {},
   "outputs": [],
   "source": [
    "import numpy as np"
   ]
  },
  {
   "cell_type": "code",
   "execution_count": 99,
   "id": "d54b6aed-e5d9-4cb7-9e9a-13f92d397f6e",
   "metadata": {},
   "outputs": [],
   "source": [
    "grades = np.random.randint(60, 100, 12).reshape(3, 4)"
   ]
  },
  {
   "cell_type": "code",
   "execution_count": 100,
   "id": "d394fea4-7335-46f2-8835-a80f39ee91e8",
   "metadata": {},
   "outputs": [
    {
     "data": {
      "text/plain": [
       "array([[79, 81, 63, 86],\n",
       "       [60, 78, 66, 75],\n",
       "       [95, 77, 94, 74]])"
      ]
     },
     "execution_count": 100,
     "metadata": {},
     "output_type": "execute_result"
    }
   ],
   "source": [
    "grades"
   ]
  },
  {
   "cell_type": "code",
   "execution_count": 101,
   "id": "bee12de0-8e96-44ba-8bd5-ad5334e0bbfc",
   "metadata": {},
   "outputs": [
    {
     "data": {
      "text/plain": [
       "77.33333333333333"
      ]
     },
     "execution_count": 101,
     "metadata": {},
     "output_type": "execute_result"
    }
   ],
   "source": [
    "grades.mean()"
   ]
  },
  {
   "cell_type": "code",
   "execution_count": 102,
   "id": "e4550574-bf73-43c9-b5a4-5dfabe896708",
   "metadata": {},
   "outputs": [
    {
     "data": {
      "text/plain": [
       "array([78.        , 78.66666667, 74.33333333, 78.33333333])"
      ]
     },
     "execution_count": 102,
     "metadata": {},
     "output_type": "execute_result"
    }
   ],
   "source": [
    "grades.mean(axis=0)"
   ]
  },
  {
   "cell_type": "code",
   "execution_count": 103,
   "id": "284be273-a7d0-404c-bf6e-9eb6e175a3d7",
   "metadata": {},
   "outputs": [
    {
     "data": {
      "text/plain": [
       "array([77.25, 69.75, 85.  ])"
      ]
     },
     "execution_count": 103,
     "metadata": {},
     "output_type": "execute_result"
    }
   ],
   "source": [
    "grades.mean(axis=1)"
   ]
  },
  {
   "cell_type": "code",
   "execution_count": 104,
   "id": "6c1a8a1f-60c9-4a85-a991-0ca621444fb2",
   "metadata": {},
   "outputs": [],
   "source": [
    "#7.9 Practice"
   ]
  },
  {
   "cell_type": "code",
   "execution_count": 105,
   "id": "95b7c18b-d652-469e-8d64-df287cb01293",
   "metadata": {},
   "outputs": [],
   "source": [
    "import numpy as np"
   ]
  },
  {
   "cell_type": "code",
   "execution_count": 106,
   "id": "dee5ce28-edf8-4e17-a0ce-2777cd05e51f",
   "metadata": {},
   "outputs": [],
   "source": [
    "numbers = np.array([1, 4, 9, 16, 25, 36])"
   ]
  },
  {
   "cell_type": "code",
   "execution_count": 107,
   "id": "892f5ea3-a97f-4957-a453-2ade01459cf0",
   "metadata": {},
   "outputs": [
    {
     "data": {
      "text/plain": [
       "array([1., 2., 3., 4., 5., 6.])"
      ]
     },
     "execution_count": 107,
     "metadata": {},
     "output_type": "execute_result"
    }
   ],
   "source": [
    "np.sqrt(numbers)"
   ]
  },
  {
   "cell_type": "code",
   "execution_count": 108,
   "id": "414642bd-e6f7-4137-b859-67881b77a5c4",
   "metadata": {},
   "outputs": [],
   "source": [
    "numbers2 = np.arange(1, 7) * 10"
   ]
  },
  {
   "cell_type": "code",
   "execution_count": 109,
   "id": "8ec6c6b3-32d5-45da-93fd-b74f92427410",
   "metadata": {},
   "outputs": [
    {
     "data": {
      "text/plain": [
       "array([10, 20, 30, 40, 50, 60])"
      ]
     },
     "execution_count": 109,
     "metadata": {},
     "output_type": "execute_result"
    }
   ],
   "source": [
    "numbers2"
   ]
  },
  {
   "cell_type": "code",
   "execution_count": 110,
   "id": "084cdc7d-a4bc-49f6-86c6-642c2c8fd09e",
   "metadata": {},
   "outputs": [
    {
     "data": {
      "text/plain": [
       "array([11, 24, 39, 56, 75, 96])"
      ]
     },
     "execution_count": 110,
     "metadata": {},
     "output_type": "execute_result"
    }
   ],
   "source": [
    "np.add(numbers, numbers2)"
   ]
  },
  {
   "cell_type": "code",
   "execution_count": 111,
   "id": "c8463986-6b2c-4f50-a7cb-c26f8653f6c3",
   "metadata": {},
   "outputs": [
    {
     "data": {
      "text/plain": [
       "array([ 50, 100, 150, 200, 250, 300])"
      ]
     },
     "execution_count": 111,
     "metadata": {},
     "output_type": "execute_result"
    }
   ],
   "source": [
    "np.multiply(numbers2,5)"
   ]
  },
  {
   "cell_type": "code",
   "execution_count": 112,
   "id": "666b3730-952d-471f-b4a8-63715f73b42b",
   "metadata": {},
   "outputs": [],
   "source": [
    "numbers3 = numbers2.reshape(2, 3)"
   ]
  },
  {
   "cell_type": "code",
   "execution_count": 113,
   "id": "61c6b521-0e32-42b5-9fd0-4a478d16336c",
   "metadata": {},
   "outputs": [
    {
     "data": {
      "text/plain": [
       "array([[10, 20, 30],\n",
       "       [40, 50, 60]])"
      ]
     },
     "execution_count": 113,
     "metadata": {},
     "output_type": "execute_result"
    }
   ],
   "source": [
    "numbers3"
   ]
  },
  {
   "cell_type": "code",
   "execution_count": 114,
   "id": "92c9d1d2-aa75-4ed4-8074-b2d1d84a84ef",
   "metadata": {},
   "outputs": [],
   "source": [
    "numbers4 = np.array([2, 4, 6])"
   ]
  },
  {
   "cell_type": "code",
   "execution_count": 115,
   "id": "9b69512a-60a6-4d82-9841-b2b022c983e4",
   "metadata": {},
   "outputs": [
    {
     "data": {
      "text/plain": [
       "array([[ 20,  80, 180],\n",
       "       [ 80, 200, 360]])"
      ]
     },
     "execution_count": 115,
     "metadata": {},
     "output_type": "execute_result"
    }
   ],
   "source": [
    "np.multiply(numbers3, numbers4)"
   ]
  },
  {
   "cell_type": "code",
   "execution_count": 116,
   "id": "8718f476-ddc1-4dff-94e5-347b9ad08dbe",
   "metadata": {},
   "outputs": [],
   "source": [
    "#Self Check 7.9"
   ]
  },
  {
   "cell_type": "code",
   "execution_count": 117,
   "id": "bed5076d-b961-4625-bd5e-848a2d3165be",
   "metadata": {},
   "outputs": [],
   "source": [
    "import numpy as np"
   ]
  },
  {
   "cell_type": "code",
   "execution_count": 118,
   "id": "f902a6cd-7c5e-406c-994a-e5223ea4f589",
   "metadata": {},
   "outputs": [],
   "source": [
    "numbers = np.arange(1, 6)"
   ]
  },
  {
   "cell_type": "code",
   "execution_count": 119,
   "id": "3e594978-0a35-4549-9846-f979c1cbc44a",
   "metadata": {},
   "outputs": [
    {
     "data": {
      "text/plain": [
       "array([  1,   8,  27,  64, 125], dtype=int32)"
      ]
     },
     "execution_count": 119,
     "metadata": {},
     "output_type": "execute_result"
    }
   ],
   "source": [
    "np.power(numbers, 3)"
   ]
  },
  {
   "cell_type": "code",
   "execution_count": 120,
   "id": "0cedf59f-7693-4019-aae8-75b42a96a1dd",
   "metadata": {},
   "outputs": [],
   "source": [
    "#7.10 Practice"
   ]
  },
  {
   "cell_type": "code",
   "execution_count": 121,
   "id": "319a3e99-d2cb-4114-b938-2cdbd4ce2e6d",
   "metadata": {},
   "outputs": [],
   "source": [
    "grades = np.array([[87, 96, 70], [100, 87, 90],\n",
    "                   [94, 77, 90], [100, 81, 82]])"
   ]
  },
  {
   "cell_type": "code",
   "execution_count": 122,
   "id": "67011001-b173-4b9c-876e-26b207710e27",
   "metadata": {},
   "outputs": [
    {
     "data": {
      "text/plain": [
       "array([[ 87,  96,  70],\n",
       "       [100,  87,  90],\n",
       "       [ 94,  77,  90],\n",
       "       [100,  81,  82]])"
      ]
     },
     "execution_count": 122,
     "metadata": {},
     "output_type": "execute_result"
    }
   ],
   "source": [
    "grades"
   ]
  },
  {
   "cell_type": "code",
   "execution_count": 123,
   "id": "fb08ad8b-6b7b-4e48-a692-777626f95a3f",
   "metadata": {},
   "outputs": [
    {
     "data": {
      "text/plain": [
       "96"
      ]
     },
     "execution_count": 123,
     "metadata": {},
     "output_type": "execute_result"
    }
   ],
   "source": [
    "grades[0, 1]"
   ]
  },
  {
   "cell_type": "code",
   "execution_count": 124,
   "id": "c59f5473-7c9f-46c1-b0ad-0599988b28df",
   "metadata": {},
   "outputs": [
    {
     "data": {
      "text/plain": [
       "array([100,  87,  90])"
      ]
     },
     "execution_count": 124,
     "metadata": {},
     "output_type": "execute_result"
    }
   ],
   "source": [
    "grades[1]"
   ]
  },
  {
   "cell_type": "code",
   "execution_count": 125,
   "id": "3449f2d0-4f59-47a2-82d0-b4f3b830c29b",
   "metadata": {},
   "outputs": [
    {
     "data": {
      "text/plain": [
       "array([[ 87,  96,  70],\n",
       "       [100,  87,  90]])"
      ]
     },
     "execution_count": 125,
     "metadata": {},
     "output_type": "execute_result"
    }
   ],
   "source": [
    "grades[0:2]"
   ]
  },
  {
   "cell_type": "code",
   "execution_count": 126,
   "id": "58c22977-298e-4c64-b5b6-d93f3415f2dd",
   "metadata": {},
   "outputs": [
    {
     "data": {
      "text/plain": [
       "array([[100,  87,  90],\n",
       "       [100,  81,  82]])"
      ]
     },
     "execution_count": 126,
     "metadata": {},
     "output_type": "execute_result"
    }
   ],
   "source": [
    "grades[[1, 3]]"
   ]
  },
  {
   "cell_type": "code",
   "execution_count": 127,
   "id": "a523e9a3-b399-4b7f-8c17-6409b67cd644",
   "metadata": {},
   "outputs": [
    {
     "data": {
      "text/plain": [
       "array([ 87, 100,  94, 100])"
      ]
     },
     "execution_count": 127,
     "metadata": {},
     "output_type": "execute_result"
    }
   ],
   "source": [
    "grades[:, 0]"
   ]
  },
  {
   "cell_type": "code",
   "execution_count": 128,
   "id": "118142af-7ef2-486f-929e-c7700e198b21",
   "metadata": {},
   "outputs": [
    {
     "data": {
      "text/plain": [
       "array([[96, 70],\n",
       "       [87, 90],\n",
       "       [77, 90],\n",
       "       [81, 82]])"
      ]
     },
     "execution_count": 128,
     "metadata": {},
     "output_type": "execute_result"
    }
   ],
   "source": [
    "grades[:, 1:3]"
   ]
  },
  {
   "cell_type": "code",
   "execution_count": 129,
   "id": "bf2cdf49-8e0f-48ff-8658-ab22a4fffa68",
   "metadata": {},
   "outputs": [],
   "source": [
    "# Self Check 7.10"
   ]
  },
  {
   "cell_type": "code",
   "execution_count": 130,
   "id": "e67bf9b4-5ffb-4cec-8170-0e90697ed157",
   "metadata": {},
   "outputs": [],
   "source": [
    "import numpy as np"
   ]
  },
  {
   "cell_type": "code",
   "execution_count": 131,
   "id": "b0ef5071-0795-44aa-bc96-0f718c947ac4",
   "metadata": {},
   "outputs": [],
   "source": [
    "a = np.arange(1, 16).reshape(3, 5)"
   ]
  },
  {
   "cell_type": "code",
   "execution_count": 132,
   "id": "bfa0f112-4994-49ee-83f8-da187d42828f",
   "metadata": {},
   "outputs": [
    {
     "data": {
      "text/plain": [
       "array([[ 1,  2,  3,  4,  5],\n",
       "       [ 6,  7,  8,  9, 10],\n",
       "       [11, 12, 13, 14, 15]])"
      ]
     },
     "execution_count": 132,
     "metadata": {},
     "output_type": "execute_result"
    }
   ],
   "source": [
    "a"
   ]
  },
  {
   "cell_type": "code",
   "execution_count": 133,
   "id": "9e1e1110-e6d6-4cfa-b6d7-8c0a84dcdefd",
   "metadata": {},
   "outputs": [
    {
     "data": {
      "text/plain": [
       "array([ 6,  7,  8,  9, 10])"
      ]
     },
     "execution_count": 133,
     "metadata": {},
     "output_type": "execute_result"
    }
   ],
   "source": [
    "a[1]"
   ]
  },
  {
   "cell_type": "code",
   "execution_count": 134,
   "id": "54a390bc-394b-4ea1-a425-9daed2b94708",
   "metadata": {},
   "outputs": [
    {
     "data": {
      "text/plain": [
       "array([[ 1,  2,  3,  4,  5],\n",
       "       [11, 12, 13, 14, 15]])"
      ]
     },
     "execution_count": 134,
     "metadata": {},
     "output_type": "execute_result"
    }
   ],
   "source": [
    "a[[0, 2]]"
   ]
  },
  {
   "cell_type": "code",
   "execution_count": 135,
   "id": "6317f8a2-36b5-45f3-9f58-2f13bc149208",
   "metadata": {},
   "outputs": [
    {
     "data": {
      "text/plain": [
       "array([[ 2,  3,  4],\n",
       "       [ 7,  8,  9],\n",
       "       [12, 13, 14]])"
      ]
     },
     "execution_count": 135,
     "metadata": {},
     "output_type": "execute_result"
    }
   ],
   "source": [
    "a[:, 1:4]"
   ]
  },
  {
   "cell_type": "code",
   "execution_count": 136,
   "id": "bdfd1f60-ee67-4fcc-bc81-cb5fa6fd3bef",
   "metadata": {},
   "outputs": [],
   "source": [
    "# 7.11 Practice"
   ]
  },
  {
   "cell_type": "code",
   "execution_count": 137,
   "id": "8fa6993d-0427-468c-8be2-f90da1a7b2bf",
   "metadata": {},
   "outputs": [],
   "source": [
    "import numpy as np"
   ]
  },
  {
   "cell_type": "code",
   "execution_count": 138,
   "id": "a69e7d6c-97cc-44ae-adc8-34c551f97226",
   "metadata": {},
   "outputs": [],
   "source": [
    "numbers = np.arange(1, 6)"
   ]
  },
  {
   "cell_type": "code",
   "execution_count": 139,
   "id": "d766e663-5245-4319-b785-8c1b0e8a5efa",
   "metadata": {},
   "outputs": [
    {
     "data": {
      "text/plain": [
       "array([1, 2, 3, 4, 5])"
      ]
     },
     "execution_count": 139,
     "metadata": {},
     "output_type": "execute_result"
    }
   ],
   "source": [
    "numbers"
   ]
  },
  {
   "cell_type": "code",
   "execution_count": 140,
   "id": "4a84992e-5469-4ac9-8a89-057d85223ce6",
   "metadata": {},
   "outputs": [],
   "source": [
    "numbers2 = numbers.view()"
   ]
  },
  {
   "cell_type": "code",
   "execution_count": 141,
   "id": "25a6ef9a-f22b-4cf5-821c-11672635fa07",
   "metadata": {},
   "outputs": [
    {
     "data": {
      "text/plain": [
       "array([1, 2, 3, 4, 5])"
      ]
     },
     "execution_count": 141,
     "metadata": {},
     "output_type": "execute_result"
    }
   ],
   "source": [
    "numbers2"
   ]
  },
  {
   "cell_type": "code",
   "execution_count": 142,
   "id": "bb4b46fa-61f4-4039-8545-850b78e67b84",
   "metadata": {},
   "outputs": [
    {
     "data": {
      "text/plain": [
       "1179757475376"
      ]
     },
     "execution_count": 142,
     "metadata": {},
     "output_type": "execute_result"
    }
   ],
   "source": [
    "id(numbers)"
   ]
  },
  {
   "cell_type": "code",
   "execution_count": 143,
   "id": "4a395371-f38a-42c9-bb70-ce6cee03fac5",
   "metadata": {},
   "outputs": [
    {
     "data": {
      "text/plain": [
       "1179757994128"
      ]
     },
     "execution_count": 143,
     "metadata": {},
     "output_type": "execute_result"
    }
   ],
   "source": [
    "id(numbers2)"
   ]
  },
  {
   "cell_type": "code",
   "execution_count": 144,
   "id": "be6f8c1d-9e59-41c6-896a-378eecc77cd3",
   "metadata": {},
   "outputs": [],
   "source": [
    "numbers[1] *= 10"
   ]
  },
  {
   "cell_type": "code",
   "execution_count": 145,
   "id": "64b4f9fd-924b-4077-866d-82e9d406316d",
   "metadata": {},
   "outputs": [
    {
     "data": {
      "text/plain": [
       "array([ 1, 20,  3,  4,  5])"
      ]
     },
     "execution_count": 145,
     "metadata": {},
     "output_type": "execute_result"
    }
   ],
   "source": [
    "numbers2"
   ]
  },
  {
   "cell_type": "code",
   "execution_count": 146,
   "id": "7e2ba436-1e7c-4769-a470-573cac451a09",
   "metadata": {},
   "outputs": [
    {
     "data": {
      "text/plain": [
       "array([ 1, 20,  3,  4,  5])"
      ]
     },
     "execution_count": 146,
     "metadata": {},
     "output_type": "execute_result"
    }
   ],
   "source": [
    "numbers"
   ]
  },
  {
   "cell_type": "code",
   "execution_count": 147,
   "id": "9296b5a8-25ce-4f8f-af85-7d2c0047cdc4",
   "metadata": {},
   "outputs": [],
   "source": [
    "numbers2[1] /= 10"
   ]
  },
  {
   "cell_type": "code",
   "execution_count": 148,
   "id": "edb5992c-86cc-4d1c-a6b2-885b1a5b0b8a",
   "metadata": {},
   "outputs": [
    {
     "data": {
      "text/plain": [
       "array([1, 2, 3, 4, 5])"
      ]
     },
     "execution_count": 148,
     "metadata": {},
     "output_type": "execute_result"
    }
   ],
   "source": [
    "numbers"
   ]
  },
  {
   "cell_type": "code",
   "execution_count": 149,
   "id": "1d728bae-4608-4879-b7d7-42cb14539096",
   "metadata": {},
   "outputs": [
    {
     "data": {
      "text/plain": [
       "array([1, 2, 3, 4, 5])"
      ]
     },
     "execution_count": 149,
     "metadata": {},
     "output_type": "execute_result"
    }
   ],
   "source": [
    "numbers2"
   ]
  },
  {
   "cell_type": "code",
   "execution_count": 150,
   "id": "a95efc8b-c084-42dd-9a4b-c0d8e282c5a5",
   "metadata": {},
   "outputs": [],
   "source": [
    "numbers2 = numbers[0:3]"
   ]
  },
  {
   "cell_type": "code",
   "execution_count": 151,
   "id": "2a2513f9-138c-441b-b909-7423e2622d6f",
   "metadata": {},
   "outputs": [
    {
     "data": {
      "text/plain": [
       "array([1, 2, 3])"
      ]
     },
     "execution_count": 151,
     "metadata": {},
     "output_type": "execute_result"
    }
   ],
   "source": [
    "numbers2"
   ]
  },
  {
   "cell_type": "code",
   "execution_count": 152,
   "id": "d5ee7ac0-f359-45a7-964a-c68dd95f7f39",
   "metadata": {},
   "outputs": [
    {
     "data": {
      "text/plain": [
       "1179757475376"
      ]
     },
     "execution_count": 152,
     "metadata": {},
     "output_type": "execute_result"
    }
   ],
   "source": [
    "id(numbers)"
   ]
  },
  {
   "cell_type": "code",
   "execution_count": 153,
   "id": "1bd52d7f-926b-4468-9aac-b4a24ba521cd",
   "metadata": {},
   "outputs": [
    {
     "data": {
      "text/plain": [
       "1179757918992"
      ]
     },
     "execution_count": 153,
     "metadata": {},
     "output_type": "execute_result"
    }
   ],
   "source": [
    "id(numbers2)"
   ]
  },
  {
   "cell_type": "code",
   "execution_count": 154,
   "id": "2c2940e7-ae07-438a-b272-1d8c6a7edd69",
   "metadata": {},
   "outputs": [
    {
     "ename": "IndexError",
     "evalue": "index 3 is out of bounds for axis 0 with size 3",
     "output_type": "error",
     "traceback": [
      "\u001b[1;31m---------------------------------------------------------------------------\u001b[0m",
      "\u001b[1;31mIndexError\u001b[0m                                Traceback (most recent call last)",
      "Input \u001b[1;32mIn [154]\u001b[0m, in \u001b[0;36m<module>\u001b[1;34m\u001b[0m\n\u001b[1;32m----> 1\u001b[0m \u001b[43mnumbers2\u001b[49m\u001b[43m[\u001b[49m\u001b[38;5;241;43m3\u001b[39;49m\u001b[43m]\u001b[49m\n",
      "\u001b[1;31mIndexError\u001b[0m: index 3 is out of bounds for axis 0 with size 3"
     ]
    }
   ],
   "source": [
    "numbers2[3]"
   ]
  },
  {
   "cell_type": "code",
   "execution_count": 155,
   "id": "965aac64-8a33-45e9-90a2-34cb377529d0",
   "metadata": {},
   "outputs": [],
   "source": [
    "numbers[1] *= 20"
   ]
  },
  {
   "cell_type": "code",
   "execution_count": 156,
   "id": "655ce859-75ce-47d7-9680-bec3e3e0515a",
   "metadata": {},
   "outputs": [
    {
     "data": {
      "text/plain": [
       "array([ 1, 40,  3,  4,  5])"
      ]
     },
     "execution_count": 156,
     "metadata": {},
     "output_type": "execute_result"
    }
   ],
   "source": [
    "numbers"
   ]
  },
  {
   "cell_type": "code",
   "execution_count": 157,
   "id": "be77c060-e3fa-4b0c-98c1-9e6ef7c04475",
   "metadata": {},
   "outputs": [
    {
     "data": {
      "text/plain": [
       "array([ 1, 40,  3])"
      ]
     },
     "execution_count": 157,
     "metadata": {},
     "output_type": "execute_result"
    }
   ],
   "source": [
    "numbers2"
   ]
  },
  {
   "cell_type": "code",
   "execution_count": 158,
   "id": "a1c8d580-97f9-4b04-bbe1-04a90e6ccf16",
   "metadata": {},
   "outputs": [],
   "source": [
    "# 7.12 Practice"
   ]
  },
  {
   "cell_type": "code",
   "execution_count": 159,
   "id": "f675cd02-60d8-4ef1-8d9f-19d172496645",
   "metadata": {},
   "outputs": [],
   "source": [
    "import numpy as np"
   ]
  },
  {
   "cell_type": "code",
   "execution_count": 160,
   "id": "3d2e7551-ff1b-4704-8ed5-8bc75fc0a39a",
   "metadata": {},
   "outputs": [],
   "source": [
    "numbers = np.arange(1, 6)"
   ]
  },
  {
   "cell_type": "code",
   "execution_count": 161,
   "id": "2163ff21-9603-4623-ac27-242faab34ee0",
   "metadata": {},
   "outputs": [
    {
     "data": {
      "text/plain": [
       "array([1, 2, 3, 4, 5])"
      ]
     },
     "execution_count": 161,
     "metadata": {},
     "output_type": "execute_result"
    }
   ],
   "source": [
    "numbers"
   ]
  },
  {
   "cell_type": "code",
   "execution_count": 162,
   "id": "736de952-6202-4580-b446-36528e668fb1",
   "metadata": {},
   "outputs": [],
   "source": [
    "numbers2 = numbers.copy()"
   ]
  },
  {
   "cell_type": "code",
   "execution_count": 163,
   "id": "ac043b1a-f95d-426f-84f8-f1eb97595fce",
   "metadata": {},
   "outputs": [
    {
     "data": {
      "text/plain": [
       "array([1, 2, 3, 4, 5])"
      ]
     },
     "execution_count": 163,
     "metadata": {},
     "output_type": "execute_result"
    }
   ],
   "source": [
    "numbers2"
   ]
  },
  {
   "cell_type": "code",
   "execution_count": 164,
   "id": "f4dad32d-6549-4807-95d7-b484efc7998e",
   "metadata": {},
   "outputs": [],
   "source": [
    "numbers[1] *= 10"
   ]
  },
  {
   "cell_type": "code",
   "execution_count": 165,
   "id": "43a0e5d3-59cc-45d9-a214-4eafaa3109e7",
   "metadata": {},
   "outputs": [
    {
     "data": {
      "text/plain": [
       "array([ 1, 20,  3,  4,  5])"
      ]
     },
     "execution_count": 165,
     "metadata": {},
     "output_type": "execute_result"
    }
   ],
   "source": [
    "numbers"
   ]
  },
  {
   "cell_type": "code",
   "execution_count": 166,
   "id": "03f6a4fe-f29d-40c4-b9d8-617e53090e6d",
   "metadata": {},
   "outputs": [
    {
     "data": {
      "text/plain": [
       "array([1, 2, 3, 4, 5])"
      ]
     },
     "execution_count": 166,
     "metadata": {},
     "output_type": "execute_result"
    }
   ],
   "source": [
    "numbers2"
   ]
  },
  {
   "cell_type": "code",
   "execution_count": 167,
   "id": "5567bb0e-664f-4049-95df-2bca06d5b5fe",
   "metadata": {},
   "outputs": [],
   "source": [
    "# 7.13 Practice"
   ]
  },
  {
   "cell_type": "code",
   "execution_count": 168,
   "id": "26062421-6d28-44e7-a74d-cead8bbd7c47",
   "metadata": {},
   "outputs": [],
   "source": [
    "import numpy as np"
   ]
  },
  {
   "cell_type": "code",
   "execution_count": 169,
   "id": "de6a6853-3141-4c4b-8fdf-dfbcfc9accff",
   "metadata": {},
   "outputs": [],
   "source": [
    "grades = np.array([[87, 96, 70], [100, 87, 90]])"
   ]
  },
  {
   "cell_type": "code",
   "execution_count": 170,
   "id": "c78c6ea1-e85f-4574-a87c-bc09426b15cb",
   "metadata": {},
   "outputs": [
    {
     "data": {
      "text/plain": [
       "array([[ 87,  96,  70],\n",
       "       [100,  87,  90]])"
      ]
     },
     "execution_count": 170,
     "metadata": {},
     "output_type": "execute_result"
    }
   ],
   "source": [
    "grades"
   ]
  },
  {
   "cell_type": "code",
   "execution_count": 171,
   "id": "e56bdedc-f70c-440e-9041-5230e910028a",
   "metadata": {},
   "outputs": [
    {
     "data": {
      "text/plain": [
       "array([[ 87,  96,  70, 100,  87,  90]])"
      ]
     },
     "execution_count": 171,
     "metadata": {},
     "output_type": "execute_result"
    }
   ],
   "source": [
    "grades.reshape(1, 6)"
   ]
  },
  {
   "cell_type": "code",
   "execution_count": 172,
   "id": "983d13ff-7764-438b-9b7e-cfeafe371fbe",
   "metadata": {},
   "outputs": [
    {
     "data": {
      "text/plain": [
       "array([[ 87,  96,  70],\n",
       "       [100,  87,  90]])"
      ]
     },
     "execution_count": 172,
     "metadata": {},
     "output_type": "execute_result"
    }
   ],
   "source": [
    "grades"
   ]
  },
  {
   "cell_type": "code",
   "execution_count": 173,
   "id": "f52d701a-1e65-4c98-b90f-2a99d521defe",
   "metadata": {},
   "outputs": [],
   "source": [
    "grades.resize(1, 6)"
   ]
  },
  {
   "cell_type": "code",
   "execution_count": 174,
   "id": "fdb41c4a-7609-4c27-a18f-892e324819cb",
   "metadata": {},
   "outputs": [
    {
     "data": {
      "text/plain": [
       "array([[ 87,  96,  70, 100,  87,  90]])"
      ]
     },
     "execution_count": 174,
     "metadata": {},
     "output_type": "execute_result"
    }
   ],
   "source": [
    "grades"
   ]
  },
  {
   "cell_type": "code",
   "execution_count": 175,
   "id": "7cbe0a75-3699-4e1c-baa8-1c2c94e70a38",
   "metadata": {},
   "outputs": [],
   "source": [
    "grades = np.array([[87, 96, 70], [100, 87, 90]])"
   ]
  },
  {
   "cell_type": "code",
   "execution_count": 176,
   "id": "a241fbd9-9303-49da-89af-a160b31230cd",
   "metadata": {},
   "outputs": [
    {
     "data": {
      "text/plain": [
       "array([[ 87,  96,  70],\n",
       "       [100,  87,  90]])"
      ]
     },
     "execution_count": 176,
     "metadata": {},
     "output_type": "execute_result"
    }
   ],
   "source": [
    "grades"
   ]
  },
  {
   "cell_type": "code",
   "execution_count": 177,
   "id": "7ed2e678-71fc-45dd-9785-25e02bc6846b",
   "metadata": {},
   "outputs": [],
   "source": [
    "flattened = grades.flatten()"
   ]
  },
  {
   "cell_type": "code",
   "execution_count": 178,
   "id": "e581599a-b2f8-4781-b8a7-5fbcfba77f83",
   "metadata": {},
   "outputs": [
    {
     "data": {
      "text/plain": [
       "array([ 87,  96,  70, 100,  87,  90])"
      ]
     },
     "execution_count": 178,
     "metadata": {},
     "output_type": "execute_result"
    }
   ],
   "source": [
    "flattened"
   ]
  },
  {
   "cell_type": "code",
   "execution_count": 179,
   "id": "f04b8d1b-55c9-47f7-8b5b-96218a139a3b",
   "metadata": {},
   "outputs": [
    {
     "data": {
      "text/plain": [
       "array([[ 87,  96,  70],\n",
       "       [100,  87,  90]])"
      ]
     },
     "execution_count": 179,
     "metadata": {},
     "output_type": "execute_result"
    }
   ],
   "source": [
    "grades"
   ]
  },
  {
   "cell_type": "code",
   "execution_count": 180,
   "id": "e90ba9c6-6e38-4bb0-87ad-49531081cc88",
   "metadata": {},
   "outputs": [],
   "source": [
    "flattened[0] = 100"
   ]
  },
  {
   "cell_type": "code",
   "execution_count": 181,
   "id": "939aaa8b-4e3f-4ecd-9ad6-0672630d94c0",
   "metadata": {},
   "outputs": [
    {
     "data": {
      "text/plain": [
       "array([100,  96,  70, 100,  87,  90])"
      ]
     },
     "execution_count": 181,
     "metadata": {},
     "output_type": "execute_result"
    }
   ],
   "source": [
    "flattened"
   ]
  },
  {
   "cell_type": "code",
   "execution_count": 182,
   "id": "52af4fa3-31a4-427a-b35d-effd60e127d8",
   "metadata": {},
   "outputs": [
    {
     "data": {
      "text/plain": [
       "array([[ 87,  96,  70],\n",
       "       [100,  87,  90]])"
      ]
     },
     "execution_count": 182,
     "metadata": {},
     "output_type": "execute_result"
    }
   ],
   "source": [
    "grades"
   ]
  },
  {
   "cell_type": "code",
   "execution_count": 183,
   "id": "436d8ad4-fc2b-4750-9955-639f79dddbe9",
   "metadata": {},
   "outputs": [],
   "source": [
    "raveled = grades.ravel()"
   ]
  },
  {
   "cell_type": "code",
   "execution_count": 184,
   "id": "1ec925dc-ab12-4ccc-bb76-53a174155671",
   "metadata": {},
   "outputs": [
    {
     "data": {
      "text/plain": [
       "array([ 87,  96,  70, 100,  87,  90])"
      ]
     },
     "execution_count": 184,
     "metadata": {},
     "output_type": "execute_result"
    }
   ],
   "source": [
    "raveled"
   ]
  },
  {
   "cell_type": "code",
   "execution_count": 185,
   "id": "8a8cd59a-bba1-4ad5-a23b-5006cdbfcb1c",
   "metadata": {},
   "outputs": [
    {
     "data": {
      "text/plain": [
       "array([[ 87,  96,  70],\n",
       "       [100,  87,  90]])"
      ]
     },
     "execution_count": 185,
     "metadata": {},
     "output_type": "execute_result"
    }
   ],
   "source": [
    "grades"
   ]
  },
  {
   "cell_type": "code",
   "execution_count": 186,
   "id": "c94b7df6-3d6e-4174-b5ff-7b3eea8ae4e9",
   "metadata": {},
   "outputs": [],
   "source": [
    "raveled[0] = 100"
   ]
  },
  {
   "cell_type": "code",
   "execution_count": 187,
   "id": "ecce332a-2f44-4494-8d05-b6e27b210e65",
   "metadata": {},
   "outputs": [
    {
     "data": {
      "text/plain": [
       "array([100,  96,  70, 100,  87,  90])"
      ]
     },
     "execution_count": 187,
     "metadata": {},
     "output_type": "execute_result"
    }
   ],
   "source": [
    "raveled"
   ]
  },
  {
   "cell_type": "code",
   "execution_count": 188,
   "id": "21ba221a-79ad-4ec3-afd1-4443300fa4c8",
   "metadata": {},
   "outputs": [
    {
     "data": {
      "text/plain": [
       "array([[100,  96,  70],\n",
       "       [100,  87,  90]])"
      ]
     },
     "execution_count": 188,
     "metadata": {},
     "output_type": "execute_result"
    }
   ],
   "source": [
    "grades"
   ]
  },
  {
   "cell_type": "code",
   "execution_count": 189,
   "id": "552f03a0-87e2-4045-bad7-82ed4af92182",
   "metadata": {},
   "outputs": [
    {
     "data": {
      "text/plain": [
       "array([[100, 100],\n",
       "       [ 96,  87],\n",
       "       [ 70,  90]])"
      ]
     },
     "execution_count": 189,
     "metadata": {},
     "output_type": "execute_result"
    }
   ],
   "source": [
    "grades.T"
   ]
  },
  {
   "cell_type": "code",
   "execution_count": 190,
   "id": "65e87956-1a2b-4d2d-a15e-c5950595fa74",
   "metadata": {},
   "outputs": [
    {
     "data": {
      "text/plain": [
       "array([[100,  96,  70],\n",
       "       [100,  87,  90]])"
      ]
     },
     "execution_count": 190,
     "metadata": {},
     "output_type": "execute_result"
    }
   ],
   "source": [
    "grades"
   ]
  },
  {
   "cell_type": "code",
   "execution_count": 191,
   "id": "47d3ce8f-2dce-44ee-8871-07a567ae55f1",
   "metadata": {},
   "outputs": [],
   "source": [
    "grades2 = np.array([[94, 77, 90], [100, 81, 82]])"
   ]
  },
  {
   "cell_type": "code",
   "execution_count": 192,
   "id": "046dccb3-d7b1-46d0-a483-a4b0806a1d74",
   "metadata": {},
   "outputs": [
    {
     "data": {
      "text/plain": [
       "array([[100,  96,  70,  94,  77,  90],\n",
       "       [100,  87,  90, 100,  81,  82]])"
      ]
     },
     "execution_count": 192,
     "metadata": {},
     "output_type": "execute_result"
    }
   ],
   "source": [
    "np.hstack((grades, grades2))"
   ]
  },
  {
   "cell_type": "code",
   "execution_count": 193,
   "id": "7a2f7920-99e0-4ac6-892c-1113215fd636",
   "metadata": {},
   "outputs": [
    {
     "data": {
      "text/plain": [
       "array([[100,  96,  70],\n",
       "       [100,  87,  90],\n",
       "       [ 94,  77,  90],\n",
       "       [100,  81,  82]])"
      ]
     },
     "execution_count": 193,
     "metadata": {},
     "output_type": "execute_result"
    }
   ],
   "source": [
    "np.vstack((grades, grades2))"
   ]
  },
  {
   "cell_type": "code",
   "execution_count": 194,
   "id": "c5a36089-4876-4098-91e6-ec1b5295bea5",
   "metadata": {},
   "outputs": [],
   "source": [
    "# Self Check 7.13"
   ]
  },
  {
   "cell_type": "code",
   "execution_count": 195,
   "id": "15dee213-77fd-473c-abf0-00968e04bbcc",
   "metadata": {},
   "outputs": [],
   "source": [
    "import numpy as np"
   ]
  },
  {
   "cell_type": "code",
   "execution_count": 196,
   "id": "70ade7a9-f4cc-410c-85ff-9abb11efc477",
   "metadata": {},
   "outputs": [],
   "source": [
    "a = np.arange(1, 7).reshape(2, 3)"
   ]
  },
  {
   "cell_type": "code",
   "execution_count": 197,
   "id": "bb40f482-1d2c-4987-93f0-55c4464f63ef",
   "metadata": {},
   "outputs": [
    {
     "data": {
      "text/plain": [
       "array([[1, 2, 3],\n",
       "       [4, 5, 6]])"
      ]
     },
     "execution_count": 197,
     "metadata": {},
     "output_type": "execute_result"
    }
   ],
   "source": [
    "a"
   ]
  },
  {
   "cell_type": "code",
   "execution_count": 198,
   "id": "cda8b40f-a496-4299-95ca-97b60bd5d90f",
   "metadata": {},
   "outputs": [],
   "source": [
    "a = np.hstack((a, a))"
   ]
  },
  {
   "cell_type": "code",
   "execution_count": 199,
   "id": "fdfc1b82-445f-416f-8033-26fcb9ec90d2",
   "metadata": {},
   "outputs": [
    {
     "data": {
      "text/plain": [
       "array([[1, 2, 3, 1, 2, 3],\n",
       "       [4, 5, 6, 4, 5, 6]])"
      ]
     },
     "execution_count": 199,
     "metadata": {},
     "output_type": "execute_result"
    }
   ],
   "source": [
    "a"
   ]
  },
  {
   "cell_type": "code",
   "execution_count": 200,
   "id": "5dca2b36-a944-469b-b3aa-4adb7402e65d",
   "metadata": {},
   "outputs": [],
   "source": [
    "a = np.vstack((a, a))"
   ]
  },
  {
   "cell_type": "code",
   "execution_count": 201,
   "id": "07b13d99-a969-462a-9fda-0d7aa749e948",
   "metadata": {},
   "outputs": [
    {
     "data": {
      "text/plain": [
       "array([[1, 2, 3, 1, 2, 3],\n",
       "       [4, 5, 6, 4, 5, 6],\n",
       "       [1, 2, 3, 1, 2, 3],\n",
       "       [4, 5, 6, 4, 5, 6]])"
      ]
     },
     "execution_count": 201,
     "metadata": {},
     "output_type": "execute_result"
    }
   ],
   "source": [
    "a"
   ]
  },
  {
   "cell_type": "code",
   "execution_count": 202,
   "id": "6e934c37-8d5d-4851-8dbe-3f195804edcd",
   "metadata": {},
   "outputs": [],
   "source": [
    "# 7.14 Self Check"
   ]
  },
  {
   "cell_type": "code",
   "execution_count": 203,
   "id": "562392fe-7fa2-43a5-8107-89c2ed71e389",
   "metadata": {},
   "outputs": [],
   "source": [
    "import numpy as np"
   ]
  },
  {
   "cell_type": "code",
   "execution_count": 204,
   "id": "8bdeb6c0-f5e0-4850-99e2-44b67523cc09",
   "metadata": {},
   "outputs": [],
   "source": [
    "import pandas as pd"
   ]
  },
  {
   "cell_type": "code",
   "execution_count": 205,
   "id": "9d0a3c7b-ccbd-495f-8b0d-a454aa880346",
   "metadata": {},
   "outputs": [],
   "source": [
    "temps = np.random.randint(60, 101, 5)"
   ]
  },
  {
   "cell_type": "code",
   "execution_count": 206,
   "id": "e1b9bb9d-37fb-436a-a3a2-1f5d2a01bdc0",
   "metadata": {},
   "outputs": [],
   "source": [
    "temperatures = pd.Series(temps)"
   ]
  },
  {
   "cell_type": "code",
   "execution_count": 207,
   "id": "33274fd4-e3c8-4366-9f79-497e222fd772",
   "metadata": {},
   "outputs": [
    {
     "data": {
      "text/plain": [
       "0    72\n",
       "1    77\n",
       "2    84\n",
       "3    96\n",
       "4    65\n",
       "dtype: int32"
      ]
     },
     "execution_count": 207,
     "metadata": {},
     "output_type": "execute_result"
    }
   ],
   "source": [
    "temperatures"
   ]
  },
  {
   "cell_type": "code",
   "execution_count": 208,
   "id": "93777457-75b7-45b3-82d0-e7e5ea98faab",
   "metadata": {},
   "outputs": [
    {
     "data": {
      "text/plain": [
       "65"
      ]
     },
     "execution_count": 208,
     "metadata": {},
     "output_type": "execute_result"
    }
   ],
   "source": [
    "temperatures.min()"
   ]
  },
  {
   "cell_type": "code",
   "execution_count": 209,
   "id": "19c89804-a0f6-4b7f-b09b-d265c2d58337",
   "metadata": {},
   "outputs": [
    {
     "data": {
      "text/plain": [
       "96"
      ]
     },
     "execution_count": 209,
     "metadata": {},
     "output_type": "execute_result"
    }
   ],
   "source": [
    "temperatures.max()"
   ]
  },
  {
   "cell_type": "code",
   "execution_count": 210,
   "id": "68c9c7cc-ee7e-4555-9089-1c7b404cedca",
   "metadata": {},
   "outputs": [
    {
     "data": {
      "text/plain": [
       "78.8"
      ]
     },
     "execution_count": 210,
     "metadata": {},
     "output_type": "execute_result"
    }
   ],
   "source": [
    "temperatures.mean()"
   ]
  },
  {
   "cell_type": "markdown",
   "id": "0f77716b-38ed-4835-9689-09dc7627f5f3",
   "metadata": {},
   "source": [
    "temperatures.describe()"
   ]
  },
  {
   "cell_type": "code",
   "execution_count": 211,
   "id": "aafe957b-bbbf-46ad-aef0-714fbc3d57dc",
   "metadata": {},
   "outputs": [],
   "source": [
    "#Self Check 7.14"
   ]
  },
  {
   "cell_type": "code",
   "execution_count": 212,
   "id": "d7c79c4a-2e91-4f44-a9b4-549760893b25",
   "metadata": {},
   "outputs": [],
   "source": [
    "import pandas as pd"
   ]
  },
  {
   "cell_type": "code",
   "execution_count": 213,
   "id": "2cde9eff-3726-4733-8ce0-e3ed788fff8b",
   "metadata": {},
   "outputs": [],
   "source": [
    "temps = {'Mon': [68, 89], 'Tue': [71, 93], 'Wed': [66, 82], 'Thu': [75, 97], 'Fri': [62, 79]}"
   ]
  },
  {
   "cell_type": "code",
   "execution_count": 214,
   "id": "cf54f48b-701f-4da3-a79d-adc0d6cb7c2b",
   "metadata": {},
   "outputs": [],
   "source": [
    "temperatures = pd.DataFrame(temps, index=['Low', 'High'])"
   ]
  },
  {
   "cell_type": "code",
   "execution_count": 215,
   "id": "5193e472-6455-4aec-8930-867368415314",
   "metadata": {},
   "outputs": [
    {
     "data": {
      "text/html": [
       "<div>\n",
       "<style scoped>\n",
       "    .dataframe tbody tr th:only-of-type {\n",
       "        vertical-align: middle;\n",
       "    }\n",
       "\n",
       "    .dataframe tbody tr th {\n",
       "        vertical-align: top;\n",
       "    }\n",
       "\n",
       "    .dataframe thead th {\n",
       "        text-align: right;\n",
       "    }\n",
       "</style>\n",
       "<table border=\"1\" class=\"dataframe\">\n",
       "  <thead>\n",
       "    <tr style=\"text-align: right;\">\n",
       "      <th></th>\n",
       "      <th>Mon</th>\n",
       "      <th>Tue</th>\n",
       "      <th>Wed</th>\n",
       "      <th>Thu</th>\n",
       "      <th>Fri</th>\n",
       "    </tr>\n",
       "  </thead>\n",
       "  <tbody>\n",
       "    <tr>\n",
       "      <th>Low</th>\n",
       "      <td>68</td>\n",
       "      <td>71</td>\n",
       "      <td>66</td>\n",
       "      <td>75</td>\n",
       "      <td>62</td>\n",
       "    </tr>\n",
       "    <tr>\n",
       "      <th>High</th>\n",
       "      <td>89</td>\n",
       "      <td>93</td>\n",
       "      <td>82</td>\n",
       "      <td>97</td>\n",
       "      <td>79</td>\n",
       "    </tr>\n",
       "  </tbody>\n",
       "</table>\n",
       "</div>"
      ],
      "text/plain": [
       "      Mon  Tue  Wed  Thu  Fri\n",
       "Low    68   71   66   75   62\n",
       "High   89   93   82   97   79"
      ]
     },
     "execution_count": 215,
     "metadata": {},
     "output_type": "execute_result"
    }
   ],
   "source": [
    "temperatures"
   ]
  },
  {
   "cell_type": "code",
   "execution_count": 216,
   "id": "f2d9bb6b-03ff-4be3-b0b6-1dca43037563",
   "metadata": {},
   "outputs": [
    {
     "data": {
      "text/html": [
       "<div>\n",
       "<style scoped>\n",
       "    .dataframe tbody tr th:only-of-type {\n",
       "        vertical-align: middle;\n",
       "    }\n",
       "\n",
       "    .dataframe tbody tr th {\n",
       "        vertical-align: top;\n",
       "    }\n",
       "\n",
       "    .dataframe thead th {\n",
       "        text-align: right;\n",
       "    }\n",
       "</style>\n",
       "<table border=\"1\" class=\"dataframe\">\n",
       "  <thead>\n",
       "    <tr style=\"text-align: right;\">\n",
       "      <th></th>\n",
       "      <th>Mon</th>\n",
       "      <th>Tue</th>\n",
       "      <th>Wed</th>\n",
       "    </tr>\n",
       "  </thead>\n",
       "  <tbody>\n",
       "    <tr>\n",
       "      <th>Low</th>\n",
       "      <td>68</td>\n",
       "      <td>71</td>\n",
       "      <td>66</td>\n",
       "    </tr>\n",
       "    <tr>\n",
       "      <th>High</th>\n",
       "      <td>89</td>\n",
       "      <td>93</td>\n",
       "      <td>82</td>\n",
       "    </tr>\n",
       "  </tbody>\n",
       "</table>\n",
       "</div>"
      ],
      "text/plain": [
       "      Mon  Tue  Wed\n",
       "Low    68   71   66\n",
       "High   89   93   82"
      ]
     },
     "execution_count": 216,
     "metadata": {},
     "output_type": "execute_result"
    }
   ],
   "source": [
    "temperatures.loc[:, 'Mon':'Wed']"
   ]
  },
  {
   "cell_type": "code",
   "execution_count": 217,
   "id": "3f0594ae-c0d0-4253-acd6-e85eb3597696",
   "metadata": {},
   "outputs": [
    {
     "data": {
      "text/plain": [
       "Mon    68\n",
       "Tue    71\n",
       "Wed    66\n",
       "Thu    75\n",
       "Fri    62\n",
       "Name: Low, dtype: int64"
      ]
     },
     "execution_count": 217,
     "metadata": {},
     "output_type": "execute_result"
    }
   ],
   "source": [
    "temperatures.loc['Low']"
   ]
  },
  {
   "cell_type": "code",
   "execution_count": 218,
   "id": "5324a56a-7b34-48bd-9094-a00a66cad183",
   "metadata": {},
   "outputs": [],
   "source": [
    "pd.set_option('precision', 2)"
   ]
  },
  {
   "cell_type": "code",
   "execution_count": 219,
   "id": "66bdeaf9-fede-481a-a40f-2fe632f9daaf",
   "metadata": {},
   "outputs": [
    {
     "data": {
      "text/plain": [
       "Mon    78.5\n",
       "Tue    82.0\n",
       "Wed    74.0\n",
       "Thu    86.0\n",
       "Fri    70.5\n",
       "dtype: float64"
      ]
     },
     "execution_count": 219,
     "metadata": {},
     "output_type": "execute_result"
    }
   ],
   "source": [
    "temperatures.mean()"
   ]
  },
  {
   "cell_type": "code",
   "execution_count": 220,
   "id": "33466b9b-8ad0-4816-bd7d-7910a648a682",
   "metadata": {},
   "outputs": [
    {
     "data": {
      "text/plain": [
       "Low     68.4\n",
       "High    88.0\n",
       "dtype: float64"
      ]
     },
     "execution_count": 220,
     "metadata": {},
     "output_type": "execute_result"
    }
   ],
   "source": [
    "temperatures.mean(axis=1)"
   ]
  },
  {
   "cell_type": "code",
   "execution_count": null,
   "id": "fafb991c-7322-4946-85d1-a5ffc739c44e",
   "metadata": {},
   "outputs": [],
   "source": []
  }
 ],
 "metadata": {
  "kernelspec": {
   "display_name": "Python 3 (ipykernel)",
   "language": "python",
   "name": "python3"
  },
  "language_info": {
   "codemirror_mode": {
    "name": "ipython",
    "version": 3
   },
   "file_extension": ".py",
   "mimetype": "text/x-python",
   "name": "python",
   "nbconvert_exporter": "python",
   "pygments_lexer": "ipython3",
   "version": "3.9.7"
  }
 },
 "nbformat": 4,
 "nbformat_minor": 5
}
